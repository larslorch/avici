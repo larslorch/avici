{
 "cells": [
  {
   "cell_type": "markdown",
   "id": "5e361100",
   "metadata": {
    "id": "5e361100"
   },
   "source": [
    "# Example: Inferring causal structure using a pretrained AVICI model"
   ]
  },
  {
   "cell_type": "markdown",
   "id": "eb6b52aa",
   "metadata": {
    "id": "eb6b52aa"
   },
   "source": [
    "Amortized variational inference for causal discovery (AVICI) allows inferring causal structure from data based on a **simulator** of the domain of interest. \n",
    "By training a neural network to infer structure from the simulated data, it can acquire realistic inductive biases from prior knowledge that is hard to cast as score functions or conditional independence tests.\n",
    "\n",
    "\n",
    "In this example, we **download a pretrained model checkpoint and perform predictions** for a simulated dataset. Inferring causal structure with a pretrained AVICI model takes only a few seconds since it amounts to one forward pass through the neural network."
   ]
  },
  {
   "cell_type": "markdown",
   "id": "de3d0dfc",
   "metadata": {
    "id": "de3d0dfc"
   },
   "source": [
    "Setup for Google Colab (Skip this if running locally).\n"
   ]
  },
  {
   "cell_type": "code",
   "execution_count": null,
   "id": "633bc20e",
   "metadata": {
    "id": "633bc20e"
   },
   "outputs": [],
   "source": [
    "%pip install --quiet avici"
   ]
  },
  {
   "cell_type": "markdown",
   "id": "ioyAI598FK0T",
   "metadata": {
    "id": "ioyAI598FK0T"
   },
   "source": [
    "**Simulate some data:**\n",
    "\n",
    "The function `simulate_data` accepts the following most important arguments:\n",
    "- **d** (int) -- number of variables in the system\n",
    "- **n** (int) -- number of observational data points to be sampled\n",
    "- **n_interv** (int) -- number of interventional data points to be sampled\n",
    "- **domain** (str) -- specifier of domain to be simulated.\n",
    "  Current options: `lin-gauss`, `lin-gauss-heterosked`, `lin-laplace-cauchy`, `rff-gauss`, `rff-gauss-heterosked`, `rff-laplace-cauchy`, `gene-ecoli` (see `avici.config.examples`)\n",
    "\n",
    "The function returns a 3-tuple of\n",
    "- **g** -- adjacency matrix of shape `[d, d]` of causal graph\n",
    "- **x** -- data matrix of shape `[n + n_interv, d]` containing `n + n_interv` observations of the `d` variables\n",
    "- **interv** -- binary matrix of shape `[n + n_interv, d]` encoding which nodes were intervened upon (`None` if `n_interv=0`)"
   ]
  },
  {
   "cell_type": "code",
   "execution_count": null,
   "id": "e5e8370c",
   "metadata": {
    "id": "e5e8370c",
    "scrolled": true
   },
   "outputs": [],
   "source": [
    "import avici\n",
    "from avici import simulate_data\n",
    "\n",
    "# simulate data\n",
    "g, x, interv = simulate_data(d=50, n=200, n_interv=20, domain=\"rff-gauss\")"
   ]
  },
  {
   "cell_type": "markdown",
   "id": "TcS0FHyqFUuq",
   "metadata": {
    "id": "TcS0FHyqFUuq"
   },
   "source": [
    "**Download and initialize a pretrained model:**\n",
    "\n",
    "We currently provide the following models checkpoints,\n",
    "which can be specified by the `download` argument:\n",
    "\n",
    "- `scm-v0` (**default**): linear and nonlinear SCM data, broad graph and noise distributions\n",
    "- `neurips-linear`: SCM data with linear causal mechanisms\n",
    "- `neurips-rff`: SCM data with nonlinear causal mechanisms drawn\n",
    "from GPs with squared-exponential kernel\n",
    "(defined via random Fourier features)\n",
    "- `neurips-grn`: Synthetic scRNA-seq gene expression data using the SERGIO\n",
    "[simulator](https://github.com/PayamDiba/SERGIO) by\n",
    "[Dibaeinia and Sinha, (2020)](https://www.cell.com/cell-systems/pdf/S2405-4712(20)30287-8.pdf)\n"
   ]
  },
  {
   "cell_type": "code",
   "execution_count": null,
   "id": "RO3q2jMpFW__",
   "metadata": {
    "id": "RO3q2jMpFW__"
   },
   "outputs": [],
   "source": [
    "# load pretrained model\n",
    "model = avici.load_pretrained(download=\"scm-v0\")"
   ]
  },
  {
   "cell_type": "markdown",
   "id": "6DGpSt1AFlk4",
   "metadata": {
    "id": "6DGpSt1AFlk4"
   },
   "source": [
    "**Predict the causal structure:**\n",
    "\n",
    "Calling `model` as obtained from `avici.load_pretrained` predicts the `[d, d]` matrix of probabilities for each possible edge in the causal graph and accepts the following arguments:\n",
    "\n",
    "- **x** (ndarray) -- real-valued data matrix of shape `[n, d]`\n",
    "- **interv** (ndarray, optional) --  binary matrix of the same shape as **x** with **interv[i,j] = 1** iff node **j** was intervened upon in observation **i**. (Default is `None`)\n",
    "- **return_probs** (bool, optional) -- whether to return probability estimates for each edge. `False` simply clips the predictions to 0 and 1 using a decision threshold of 0.5. (Default is `True` as the computational cost is the same.)\n",
    "- **devices** (optional) - String definining the backend to use for computation (e.g., \"cpu\", \"gpu\"), or list of explicit JAX devices. Defaults to default JAX devices and backend.\n",
    "- **shard_if_possible** (optional): whether to shard the computation across the observations axis (`n`) of the input when multiple devices are available. This may improve the memory footprint on device. Defaults to `True`.\n"
   ]
  },
  {
   "cell_type": "code",
   "execution_count": null,
   "id": "PJttZEhyFlk4",
   "metadata": {
    "id": "PJttZEhyFlk4"
   },
   "outputs": [],
   "source": [
    "%%time\n",
    "# g_prob: [d, d] predicted edge probabilities of the causal graph\n",
    "g_prob = model(x=x, interv=interv)"
   ]
  },
  {
   "cell_type": "code",
   "execution_count": null,
   "id": "bf6bdf4f",
   "metadata": {
    "id": "bf6bdf4f"
   },
   "outputs": [],
   "source": [
    "from avici.metrics import shd, classification_metrics, threshold_metrics\n",
    "\n",
    "# visualize predictions and compute metrics\n",
    "avici.visualize(g_prob, true=g, size=0.75)\n",
    "\n",
    "print(f\"SHD:   {shd(g, (g_prob > 0.5).astype(int))}\")\n",
    "print(f\"F1:    {classification_metrics(g, (g_prob > 0.5).astype(int))['f1']:.4f}\")\n",
    "print(f\"AUROC: {threshold_metrics(g, g_prob)['auroc']:.4f}\")"
   ]
  },
  {
   "cell_type": "code",
   "execution_count": null,
   "id": "4baceaf1",
   "metadata": {},
   "outputs": [],
   "source": []
  }
 ],
 "metadata": {
  "colab": {
   "provenance": []
  },
  "kernelspec": {
   "display_name": "Python 3 (ipykernel)",
   "language": "python",
   "name": "python3"
  },
  "language_info": {
   "codemirror_mode": {
    "name": "ipython",
    "version": 3
   },
   "file_extension": ".py",
   "mimetype": "text/x-python",
   "name": "python",
   "nbconvert_exporter": "python",
   "pygments_lexer": "ipython3",
   "version": "3.10.6"
  }
 },
 "nbformat": 4,
 "nbformat_minor": 5
}
